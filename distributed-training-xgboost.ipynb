{
 "cells": [
  {
   "cell_type": "markdown",
   "id": "f2d6ab7a",
   "metadata": {},
   "source": [
    "## XGBoost 1TB Distributed Training FastFile Mode\n",
    "\n",
    "Prerequisite: Please use EC2 scripts in repository to create dataset and upload to S3 before running this notebook."
   ]
  },
  {
   "cell_type": "markdown",
   "id": "4f8008af",
   "metadata": {},
   "source": [
    "### Setup SageMaker Clients\n",
    "\n",
    "We use the Python AWS SDK (Boto3) and a higher-level wrapper known as the SageMaker Python SDK."
   ]
  },
  {
   "cell_type": "code",
   "execution_count": null,
   "id": "fa22f246",
   "metadata": {},
   "outputs": [],
   "source": [
    "import boto3\n",
    "import sagemaker\n",
    "from sagemaker.estimator import Estimator\n",
    "\n",
    "boto_session = boto3.session.Session()\n",
    "region = boto_session.region_name\n",
    "\n",
    "sagemaker_session = sagemaker.Session()\n",
    "base_job_prefix = 'xgboost-example'\n",
    "role = sagemaker.get_execution_role()\n",
    "\n",
    "default_bucket = sagemaker_session.default_bucket()\n",
    "s3_prefix = base_job_prefix\n",
    "\n",
    "training_instance_type = 'ml.m5.24xlarge'"
   ]
  },
  {
   "cell_type": "markdown",
   "id": "96de412b",
   "metadata": {},
   "source": [
    "### Prepare Training Inputs\n",
    "\n",
    "Enable FastFile Mode and prepare TrainingInput with the proper path for your S3 Dataset."
   ]
  },
  {
   "cell_type": "code",
   "execution_count": null,
   "id": "68422bec",
   "metadata": {},
   "outputs": [],
   "source": [
    "from sagemaker.inputs import TrainingInput\n",
    "\n",
    "#replace with your S3 Bucket with data\n",
    "training_path = 's3://sagemaker-us-east-1-474422712127/xgboost-1TB/'\n",
    "\n",
    "#set distribution to ShardedByS3Key otherwise a copy of all files will be made across all instances\n",
    "#we also enable FastFile mode here where as the default is File mode\n",
    "train_input = TrainingInput(training_path, content_type=\"text/csv\", input_mode='FastFile', distribution = \"ShardedByS3Key\")\n",
    "training_path"
   ]
  },
  {
   "cell_type": "code",
   "execution_count": null,
   "id": "154533a8",
   "metadata": {},
   "outputs": [],
   "source": [
    "train_input.config #ensure config has proper input mdoe and distribution"
   ]
  },
  {
   "cell_type": "code",
   "execution_count": null,
   "id": "b58b96e6",
   "metadata": {},
   "outputs": [],
   "source": [
    "training_instance_type = 'ml.m5.24xlarge'\n",
    "training_instance_type"
   ]
  },
  {
   "cell_type": "markdown",
   "id": "a46b2e86",
   "metadata": {},
   "source": [
    "### Define Training Parameters\n",
    "\n",
    "Key here is defining a proper instance type and count you may need to submit a limit request as you tune your instance count."
   ]
  },
  {
   "cell_type": "code",
   "execution_count": null,
   "id": "0eba3ca4",
   "metadata": {},
   "outputs": [],
   "source": [
    "model_path = f's3://{default_bucket}/{s3_prefix}/xgb_model'\n",
    "\n",
    "image_uri = sagemaker.image_uris.retrieve(\n",
    "    framework=\"xgboost\",\n",
    "    region=region,\n",
    "    version=\"1.0-1\",\n",
    "    py_version=\"py3\",\n",
    "    instance_type=training_instance_type,\n",
    ")\n",
    "\n",
    "xgb_train = Estimator(\n",
    "    image_uri=image_uri,\n",
    "    instance_type=training_instance_type,\n",
    "    instance_count=25,\n",
    "    output_path=model_path,\n",
    "    sagemaker_session=sagemaker_session,\n",
    "    role=role,\n",
    "    \n",
    ")\n",
    "\n",
    "xgb_train.set_hyperparameters(\n",
    "    objective=\"reg:linear\",\n",
    "    num_round=50,\n",
    "    max_depth=5,\n",
    "    eta=0.2,\n",
    "    gamma=4,\n",
    "    min_child_weight=6,\n",
    "    subsample=0.7,\n",
    "    silent=0,\n",
    ")\n",
    "training_instance_type"
   ]
  },
  {
   "cell_type": "markdown",
   "id": "8cde8624",
   "metadata": {},
   "source": [
    "### Training Job\n",
    "\n",
    "Takes ~11 hours with 25 ml.m5.24xlarge instances"
   ]
  },
  {
   "cell_type": "code",
   "execution_count": null,
   "id": "4bc9494d",
   "metadata": {},
   "outputs": [],
   "source": [
    "xgb_train.fit({'train': train_input})"
   ]
  }
 ],
 "metadata": {
  "kernelspec": {
   "display_name": "conda_python3",
   "language": "python",
   "name": "conda_python3"
  },
  "language_info": {
   "codemirror_mode": {
    "name": "ipython",
    "version": 3
   },
   "file_extension": ".py",
   "mimetype": "text/x-python",
   "name": "python",
   "nbconvert_exporter": "python",
   "pygments_lexer": "ipython3",
   "version": "3.8.12"
  }
 },
 "nbformat": 4,
 "nbformat_minor": 5
}
